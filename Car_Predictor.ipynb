{
 "cells": [
  {
   "cell_type": "markdown",
   "id": "643a433b",
   "metadata": {},
   "source": [
    "# CAR PREDICTOR \n",
    "USE TO PREDICT THE CARS OF THE FOLLOWING BRANDS\n",
    "-'koenigsegg' <br>\n",
    "-'lamborghini' <br>\n",
    "-'ferrari' <br>\n",
    "-'Aston Martin' <br>\n",
    "-'McLaren' <br>\n",
    "-'Maserati' <br>\n",
    "-'Porsche' <br>\n",
    "-'Mercedes-Benz' <br>\n",
    "-'BMW' <br>\n",
    "-'Dodge' <br>\n",
    "-'Chevrolet' <br>\n",
    "-'Ford' <br>\n",
    "-'Alfa Romeo' <br>\n",
    "-'Lexus' <br>\n",
    "upload the image of the car ypu want to see and we'll predict the car."
   ]
  },
  {
   "cell_type": "code",
   "execution_count": 1,
   "id": "fa8b4c68",
   "metadata": {},
   "outputs": [],
   "source": [
    "from fastai.vision.all import *\n",
    "from fastai.vision.widgets import *\n",
    "import os"
   ]
  },
  {
   "cell_type": "code",
   "execution_count": 2,
   "id": "a4fd5ef4",
   "metadata": {},
   "outputs": [],
   "source": [
    "path=Path()\n",
    "learn_inf=load_learner(path/'Cars_Predictor.pkl')"
   ]
  },
  {
   "cell_type": "code",
   "execution_count": 3,
   "id": "ce0dbe58",
   "metadata": {},
   "outputs": [],
   "source": [
    "upload_button=widgets.FileUpload()\n",
    "# upload_button"
   ]
  },
  {
   "cell_type": "code",
   "execution_count": 4,
   "id": "92b5a0c7",
   "metadata": {},
   "outputs": [],
   "source": [
    "# img_upload=PILImage.create(upload_button.data[-1])\n",
    "# img_upload"
   ]
  },
  {
   "cell_type": "code",
   "execution_count": 5,
   "id": "cf79edfb",
   "metadata": {},
   "outputs": [],
   "source": [
    "output_display=widgets.Output()\n",
    "# output_display"
   ]
  },
  {
   "cell_type": "code",
   "execution_count": 6,
   "id": "0a7e054d",
   "metadata": {},
   "outputs": [],
   "source": [
    "# with output_display: display(img_upload.to_thumb(128,128))"
   ]
  },
  {
   "cell_type": "code",
   "execution_count": 7,
   "id": "7595c8e6",
   "metadata": {},
   "outputs": [],
   "source": [
    "label=widgets.Label()"
   ]
  },
  {
   "cell_type": "code",
   "execution_count": 8,
   "id": "0bb1f09f",
   "metadata": {},
   "outputs": [
    {
     "data": {
      "application/vnd.jupyter.widget-view+json": {
       "model_id": "ebc24271cd6045e3bfed50a536674f6a",
       "version_major": 2,
       "version_minor": 0
      },
      "text/plain": [
       "Button(description='Click to Classify!!!', style=ButtonStyle())"
      ]
     },
     "metadata": {},
     "output_type": "display_data"
    }
   ],
   "source": [
    "button_run=widgets.Button(description='Click to Classify!!!')\n",
    "button_run"
   ]
  },
  {
   "cell_type": "code",
   "execution_count": 9,
   "id": "42696d4a",
   "metadata": {},
   "outputs": [],
   "source": [
    "def click_to_classify(change):\n",
    "    img_upload=PILImage.create(upload_button.data[-1])\n",
    "    output_display.clear_output()\n",
    "    with output_display: display(img_upload.to_thumb(128,128))\n",
    "    pred,pred_idx,probs=learn_inf.predict(img_upload)\n",
    "    label.value=f'Prediction: {pred}, Probability: {probs[pred_idx]:.04f}'\n",
    "button_run.on_click(click_to_classify)"
   ]
  },
  {
   "cell_type": "code",
   "execution_count": 10,
   "id": "399e6a67",
   "metadata": {},
   "outputs": [
    {
     "data": {
      "application/vnd.jupyter.widget-view+json": {
       "model_id": "42fa4c40ae314cbc9b93ea01303d7e5d",
       "version_major": 2,
       "version_minor": 0
      },
      "text/plain": [
       "VBox(children=(Label(value='Select the Image of Car you want to Predict'), FileUpload(value={}, description='U…"
      ]
     },
     "metadata": {},
     "output_type": "display_data"
    }
   ],
   "source": [
    "VBox([widgets.Label('Select the Image of Car you want to Predict'),\n",
    "     upload_button,button_run,output_display,label])"
   ]
  },
  {
   "cell_type": "code",
   "execution_count": null,
   "id": "8d0a275d",
   "metadata": {},
   "outputs": [],
   "source": []
  }
 ],
 "metadata": {
  "kernelspec": {
   "display_name": "Python 3 (ipykernel)",
   "language": "python",
   "name": "python3"
  },
  "language_info": {
   "codemirror_mode": {
    "name": "ipython",
    "version": 3
   },
   "file_extension": ".py",
   "mimetype": "text/x-python",
   "name": "python",
   "nbconvert_exporter": "python",
   "pygments_lexer": "ipython3",
   "version": "3.9.7"
  }
 },
 "nbformat": 4,
 "nbformat_minor": 5
}
