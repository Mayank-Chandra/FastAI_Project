{
 "cells": [
  {
   "cell_type": "code",
   "execution_count": 1,
   "id": "8ffcc34b",
   "metadata": {},
   "outputs": [],
   "source": [
    "%reload_ext autoreload\n",
    "%autoreload 2\n",
    "%matplotlib inline"
   ]
  },
  {
   "cell_type": "code",
   "execution_count": 2,
   "id": "26ac8cd8",
   "metadata": {},
   "outputs": [
    {
     "name": "stderr",
     "output_type": "stream",
     "text": [
      "C:\\Users\\mayan\\AppData\\Local\\Temp/ipykernel_17156/1084472030.py:14: TqdmDeprecationWarning: This function will be removed in tqdm==5.0.0\n",
      "Please use `tqdm.notebook.tqdm` instead of `tqdm.tqdm_notebook`\n",
      "  tqdm_notebook().pandas()\n"
     ]
    },
    {
     "data": {
      "application/vnd.jupyter.widget-view+json": {
       "model_id": "8fa78a367ffb49559857a7e1ce3fc3e5",
       "version_major": 2,
       "version_minor": 0
      },
      "text/plain": [
       "0it [00:00, ?it/s]"
      ]
     },
     "metadata": {},
     "output_type": "display_data"
    }
   ],
   "source": [
    "import pandas as pd\n",
    "import numpy as np\n",
    "import imutils\n",
    "import glob\n",
    "import cv2\n",
    "import shutil\n",
    "from tqdm import tqdm_notebook\n",
    "import matplotlib.pyplot as plt\n",
    "import time\n",
    "import fastbook\n",
    "fastbook.setup_book()\n",
    "from fastbook import *\n",
    "pd.set_option('display.max_columns', 500)\n",
    "tqdm_notebook().pandas()"
   ]
  },
  {
   "cell_type": "code",
   "execution_count": 3,
   "id": "792e9ddd",
   "metadata": {},
   "outputs": [],
   "source": [
    "face_cascade=cv2.CascadeClassifier(cv2.data.haarcascades + 'haarcascade_frontalface_default.xml')"
   ]
  },
  {
   "cell_type": "code",
   "execution_count": 4,
   "id": "604cda1e",
   "metadata": {},
   "outputs": [],
   "source": [
    "def face_extactor(origin,destination,fc):\n",
    "    img=cv2.imread(origin,1)\n",
    "    img=imutils.resize(img,width=200)\n",
    "    H,W,_=img.shape\n",
    "    gray=cv2.cvtColor(img,cv2.COLOR_BGR2GRAY)\n",
    "    face_coord=fc.detectMultiScale(gray,1.2,10,minSize=(50,50))\n",
    "    if len(face_coord)==1:\n",
    "        X,Y,w,h=face_coord[0]\n",
    "    elif len(face_coord)==0:\n",
    "        return None\n",
    "    else:\n",
    "        max_val=0\n",
    "        max_idx=0\n",
    "        for idx in range(len(face_coord)):\n",
    "            _, _, w_i, h_i=face_coord[idx]\n",
    "            if w_i*h_i>max_val:\n",
    "                max_idx=idx\n",
    "                max_val=w_i*h_i\n",
    "            else:\n",
    "                pass\n",
    "            X,Y,w,h=face_coord[max_idx]\n",
    "    img_cp=img[\n",
    "        max(0,Y-int(0.35*h)): min(Y+int(1.35*h),H),\n",
    "        max(0,X-int(w*0.35)): min(X+int(1.35*w),W)\n",
    "    ].copy()\n",
    "    cv2.imwrite(destination,img_cp)"
   ]
  },
  {
   "cell_type": "code",
   "execution_count": 5,
   "id": "26bb6a36",
   "metadata": {},
   "outputs": [
    {
     "name": "stdout",
     "output_type": "stream",
     "text": [
      "202599\n"
     ]
    }
   ],
   "source": [
    "path=\"F:/Deep Learning/FastAI/Datasets/CelebFace/img_align_celeba/img_align_celeba\"\n",
    "item_list=glob.glob(\"F:/Deep Learning/FastAI/Datasets/CelebFace/img_align_celeba/img_align_celeba/*.jpg\")\n",
    "print(len(item_list))"
   ]
  },
  {
   "cell_type": "code",
   "execution_count": 6,
   "id": "7ad206bb",
   "metadata": {},
   "outputs": [
    {
     "name": "stderr",
     "output_type": "stream",
     "text": [
      "C:\\Users\\mayan\\AppData\\Local\\Temp/ipykernel_17156/1487666146.py:1: TqdmDeprecationWarning: This function will be removed in tqdm==5.0.0\n",
      "Please use `tqdm.notebook.tqdm` instead of `tqdm.tqdm_notebook`\n",
      "  for org in tqdm_notebook(item_list):\n"
     ]
    },
    {
     "data": {
      "application/vnd.jupyter.widget-view+json": {
       "model_id": "be55f33b0419403c86d1b90d99ae12af",
       "version_major": 2,
       "version_minor": 0
      },
      "text/plain": [
       "  0%|          | 0/202599 [00:00<?, ?it/s]"
      ]
     },
     "metadata": {},
     "output_type": "display_data"
    }
   ],
   "source": [
    "for org in tqdm_notebook(item_list):\n",
    "    face_extactor(origin=org,destination=path+org.split('/')[-1],fc=face_cascade)"
   ]
  },
  {
   "cell_type": "code",
   "execution_count": 7,
   "id": "d450e5d7",
   "metadata": {},
   "outputs": [
    {
     "name": "stderr",
     "output_type": "stream",
     "text": [
      "C:\\Users\\mayan\\AppData\\Local\\Temp/ipykernel_17156/2073080951.py:4: TqdmDeprecationWarning: This function will be removed in tqdm==5.0.0\n",
      "Please use `tqdm.notebook.tqdm` instead of `tqdm.tqdm_notebook`\n",
      "  for idx in tqdm_notebook(range(1,202600)):\n"
     ]
    },
    {
     "data": {
      "application/vnd.jupyter.widget-view+json": {
       "model_id": "648e1b43432c4e878e43ad2dfbabe503",
       "version_major": 2,
       "version_minor": 0
      },
      "text/plain": [
       "  0%|          | 0/202599 [00:00<?, ?it/s]"
      ]
     },
     "metadata": {},
     "output_type": "display_data"
    }
   ],
   "source": [
    "## Findign all the images and separating in training and validation\n",
    "item_list = glob.glob(path+'*.jpg')\n",
    "\n",
    "for idx in tqdm_notebook(range(1,202600)):\n",
    "    if idx <= 182637:\n",
    "        destination = path+'training/'\n",
    "    else:\n",
    "        destination = path+'validation/'\n",
    "    try:\n",
    "        shutil.move(\n",
    "            path+str(idx).zfill(6)+'.jpg', \n",
    "            destination+str(idx).zfill(6)+'.jpg'\n",
    "        )\n",
    "    except:\n",
    "        pass"
   ]
  },
  {
   "cell_type": "code",
   "execution_count": 8,
   "id": "cf93f2a1",
   "metadata": {},
   "outputs": [
    {
     "data": {
      "application/vnd.jupyter.widget-view+json": {
       "model_id": "ade8c15df9fa42c09cb507c16b9fff6c",
       "version_major": 2,
       "version_minor": 0
      },
      "text/plain": [
       "  0%|          | 0/202599 [00:00<?, ?it/s]"
      ]
     },
     "metadata": {},
     "output_type": "display_data"
    }
   ],
   "source": [
    "## Combining all label attributes\n",
    "label_df = pd.read_csv(\"F:/Deep Learning/FastAI/Datasets/CelebFace/list_attr_celeba.csv\")\n",
    "column_list = pd.Series(list(label_df.columns)[1:])\n",
    "\n",
    "def label_generator(row):\n",
    "    return(' '.join(column_list[[True if i==1 else False for i in row[column_list]]]))\n",
    "\n",
    "label_df['label'] = label_df.progress_apply(lambda x: label_generator(x), axis=1)\n",
    "label_df = label_df.loc[:,['image_id','label']]\n",
    "label_df.to_csv(\"F:/Deep Learning/FastAI/Datasets/CelebFace/labels.csv\")"
   ]
  },
  {
   "cell_type": "code",
   "execution_count": 9,
   "id": "6b12e9db",
   "metadata": {},
   "outputs": [
    {
     "name": "stderr",
     "output_type": "stream",
     "text": [
      "C:\\Users\\mayan\\AppData\\Local\\Temp/ipykernel_17156/3810645426.py:3: FutureWarning: The default dtype for empty Series will be 'object' instead of 'float64' in a future version. Specify a dtype explicitly to silence this warning.\n",
      "  item_df = pd.DataFrame({'image_name':pd.Series(item_list).apply(lambda x: '/'.join(x.split('/')[-2]))})\n"
     ]
    }
   ],
   "source": [
    "## Attachhing label to correct file names\n",
    "item_list = glob.glob(\"F:/Deep Learning/FastAI/Datasets/CelebFace/img_align_celeba/img_align_celeba/*/*.jpg\")\n",
    "item_df = pd.DataFrame({'image_name':pd.Series(item_list).apply(lambda x: '/'.join(x.split('/')[-2]))})\n",
    "item_df['image_id'] = item_df.image_name.apply(lambda x: x.split('/')[1])"
   ]
  }
 ],
 "metadata": {
  "kernelspec": {
   "display_name": "GPU",
   "language": "python",
   "name": "gpu"
  },
  "language_info": {
   "codemirror_mode": {
    "name": "ipython",
    "version": 3
   },
   "file_extension": ".py",
   "mimetype": "text/x-python",
   "name": "python",
   "nbconvert_exporter": "python",
   "pygments_lexer": "ipython3",
   "version": "3.9.7"
  }
 },
 "nbformat": 4,
 "nbformat_minor": 5
}
