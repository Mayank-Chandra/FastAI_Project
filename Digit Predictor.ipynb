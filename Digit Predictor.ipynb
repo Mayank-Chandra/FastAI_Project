{
 "cells": [
  {
   "cell_type": "markdown",
   "id": "b90dccbc",
   "metadata": {},
   "source": [
    "# Digit Predictor \n",
    "This Model is Used to Predict the numerical digit 0,1,2,3,4,5,6,7,8,9\n"
   ]
  },
  {
   "cell_type": "code",
   "execution_count": 1,
   "id": "683b0415",
   "metadata": {},
   "outputs": [],
   "source": [
    "from fastai.vision.all import *\n",
    "from fastai.vision.widgets import *\n",
    "import os"
   ]
  },
  {
   "cell_type": "code",
   "execution_count": 2,
   "id": "e9ddb712",
   "metadata": {},
   "outputs": [],
   "source": [
    "path=Path()\n",
    "model_caller=load_learner(path/'Number Predictor.pkl')\n",
    "upload_button=widgets.FileUpload()\n",
    "output=widgets.Output()\n",
    "lbl_output=widgets.Label()\n",
    "btn_run=widgets.Button(description='Classify The Digit')\n",
    "btn_run\n",
    "lbl_output.value='Click Here To Predict..'\n",
    "def on_click(change):\n",
    "    img=PILImage.create(upload_button.data[-1])\n",
    "    output.clear_output()\n",
    "    with output: display(img.to_thumb(128,128))\n",
    "    pred,pred_idx,probs=model_caller.predict(img)\n",
    "    lbl_output.value=f'Prediction: {pred}, Probability: {probs[pred_idx]:.04f}'\n",
    "btn_run.on_click(on_click)"
   ]
  },
  {
   "cell_type": "code",
   "execution_count": 3,
   "id": "4f7b9415",
   "metadata": {},
   "outputs": [
    {
     "data": {
      "application/vnd.jupyter.widget-view+json": {
       "model_id": "91a7294e922247c397d41ea1ec4ad06d",
       "version_major": 2,
       "version_minor": 0
      },
      "text/plain": [
       "VBox(children=(Label(value='Please Import the Digit you want to Predict..'), FileUpload(value={}, description=…"
      ]
     },
     "metadata": {},
     "output_type": "display_data"
    }
   ],
   "source": [
    "VBox([widgets.Label('Please Import the Digit you want to Predict..' ),\n",
    "     upload_button,btn_run,output,lbl_output])"
   ]
  },
  {
   "cell_type": "code",
   "execution_count": null,
   "id": "08ffd13c",
   "metadata": {},
   "outputs": [],
   "source": []
  }
 ],
 "metadata": {
  "kernelspec": {
   "display_name": "GPU",
   "language": "python",
   "name": "gpu"
  },
  "language_info": {
   "codemirror_mode": {
    "name": "ipython",
    "version": 3
   },
   "file_extension": ".py",
   "mimetype": "text/x-python",
   "name": "python",
   "nbconvert_exporter": "python",
   "pygments_lexer": "ipython3",
   "version": "3.9.7"
  }
 },
 "nbformat": 4,
 "nbformat_minor": 5
}
