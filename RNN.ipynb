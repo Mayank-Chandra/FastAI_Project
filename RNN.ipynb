{
 "cells": [
  {
   "cell_type": "code",
   "execution_count": 1,
   "id": "5aa907ef",
   "metadata": {},
   "outputs": [],
   "source": [
    "import fastbook\n",
    "fastbook.setup_book()"
   ]
  },
  {
   "cell_type": "code",
   "execution_count": 2,
   "id": "d95860eb",
   "metadata": {},
   "outputs": [],
   "source": [
    "from fastbook import *"
   ]
  },
  {
   "cell_type": "code",
   "execution_count": 3,
   "id": "445cb508",
   "metadata": {},
   "outputs": [],
   "source": [
    "from fastai.text.all import *\n",
    "path=untar_data(URLs.HUMAN_NUMBERS)"
   ]
  },
  {
   "cell_type": "code",
   "execution_count": 4,
   "id": "37e5af7c",
   "metadata": {},
   "outputs": [],
   "source": [
    "Path.BASE_PATH=path"
   ]
  },
  {
   "cell_type": "code",
   "execution_count": 5,
   "id": "0557b5e4",
   "metadata": {},
   "outputs": [
    {
     "data": {
      "text/plain": [
       "(#2) [Path('train.txt'),Path('valid.txt')]"
      ]
     },
     "execution_count": 5,
     "metadata": {},
     "output_type": "execute_result"
    }
   ],
   "source": [
    "path.ls()"
   ]
  },
  {
   "cell_type": "code",
   "execution_count": 6,
   "id": "63000dbc",
   "metadata": {},
   "outputs": [
    {
     "data": {
      "text/plain": [
       "(#9998) ['one \\n','two \\n','three \\n','four \\n','five \\n','six \\n','seven \\n','eight \\n','nine \\n','ten \\n'...]"
      ]
     },
     "execution_count": 6,
     "metadata": {},
     "output_type": "execute_result"
    }
   ],
   "source": [
    "lines=L()\n",
    "with open(path/'train.txt') as f: lines+=L(*f.readlines())\n",
    "with open(path/'valid.txt') as f: lines+=L(*f.readlines())\n",
    "lines"
   ]
  },
  {
   "cell_type": "code",
   "execution_count": 7,
   "id": "3e4bbdc6",
   "metadata": {},
   "outputs": [
    {
     "data": {
      "text/plain": [
       "'one . two . three . four . five . six . seven . eight . nine . ten . eleven . twelve . thirteen . fo'"
      ]
     },
     "execution_count": 7,
     "metadata": {},
     "output_type": "execute_result"
    }
   ],
   "source": [
    "text=' . '.join([l.strip() for l in lines])\n",
    "text[:100]"
   ]
  },
  {
   "cell_type": "code",
   "execution_count": 8,
   "id": "67088277",
   "metadata": {},
   "outputs": [
    {
     "data": {
      "text/plain": [
       "['one',\n",
       " '.',\n",
       " 'two',\n",
       " '.',\n",
       " 'three',\n",
       " '.',\n",
       " 'four',\n",
       " '.',\n",
       " 'five',\n",
       " '.',\n",
       " 'six',\n",
       " '.',\n",
       " 'seven',\n",
       " '.',\n",
       " 'eight',\n",
       " '.',\n",
       " 'nine',\n",
       " '.',\n",
       " 'ten',\n",
       " '.',\n",
       " 'eleven',\n",
       " '.',\n",
       " 'twelve',\n",
       " '.',\n",
       " 'thirteen',\n",
       " '.',\n",
       " 'fourteen',\n",
       " '.',\n",
       " 'fifteen',\n",
       " '.',\n",
       " 'sixteen',\n",
       " '.',\n",
       " 'seventeen',\n",
       " '.',\n",
       " 'eighteen',\n",
       " '.',\n",
       " 'nineteen',\n",
       " '.',\n",
       " 'twenty',\n",
       " '.',\n",
       " 'twenty',\n",
       " 'one',\n",
       " '.',\n",
       " 'twenty',\n",
       " 'two',\n",
       " '.',\n",
       " 'twenty',\n",
       " 'three',\n",
       " '.',\n",
       " 'twenty',\n",
       " 'four',\n",
       " '.',\n",
       " 'twenty',\n",
       " 'five',\n",
       " '.',\n",
       " 'twenty',\n",
       " 'six',\n",
       " '.',\n",
       " 'twenty',\n",
       " 'seven',\n",
       " '.',\n",
       " 'twenty',\n",
       " 'eight',\n",
       " '.',\n",
       " 'twenty',\n",
       " 'nine',\n",
       " '.',\n",
       " 'thirty',\n",
       " '.',\n",
       " 'thirty',\n",
       " 'one',\n",
       " '.',\n",
       " 'thirty',\n",
       " 'two',\n",
       " '.',\n",
       " 'thirty',\n",
       " 'three',\n",
       " '.',\n",
       " 'thirty',\n",
       " 'four',\n",
       " '.',\n",
       " 'thirty',\n",
       " 'five',\n",
       " '.',\n",
       " 'thirty',\n",
       " 'six',\n",
       " '.',\n",
       " 'thirty',\n",
       " 'seven',\n",
       " '.',\n",
       " 'thirty',\n",
       " 'eight',\n",
       " '.',\n",
       " 'thirty',\n",
       " 'nine',\n",
       " '.',\n",
       " 'forty',\n",
       " '.',\n",
       " 'forty',\n",
       " 'one']"
      ]
     },
     "execution_count": 8,
     "metadata": {},
     "output_type": "execute_result"
    }
   ],
   "source": [
    "tokens=text.split(' ')\n",
    "tokens[:100]"
   ]
  },
  {
   "cell_type": "code",
   "execution_count": 9,
   "id": "fe90a3e4",
   "metadata": {},
   "outputs": [
    {
     "data": {
      "text/plain": [
       "(#30) ['one','.','two','three','four','five','six','seven','eight','nine'...]"
      ]
     },
     "execution_count": 9,
     "metadata": {},
     "output_type": "execute_result"
    }
   ],
   "source": [
    "vocab=L(*tokens).unique()\n",
    "vocab"
   ]
  },
  {
   "cell_type": "code",
   "execution_count": 10,
   "id": "ccd697e8",
   "metadata": {},
   "outputs": [
    {
     "data": {
      "text/plain": [
       "(#63095) [0,1,2,1,3,1,4,1,5,1...]"
      ]
     },
     "execution_count": 10,
     "metadata": {},
     "output_type": "execute_result"
    }
   ],
   "source": [
    "word2idx={w:i for i,w in enumerate(vocab)}\n",
    "nums=L(word2idx[i] for i in tokens)\n",
    "nums"
   ]
  },
  {
   "cell_type": "code",
   "execution_count": 11,
   "id": "e4962912",
   "metadata": {},
   "outputs": [
    {
     "data": {
      "text/plain": [
       "(#21031) [(['one', '.', 'two'], '.'),(['.', 'three', '.'], 'four'),(['four', '.', 'five'], '.'),(['.', 'six', '.'], 'seven'),(['seven', '.', 'eight'], '.'),(['.', 'nine', '.'], 'ten'),(['ten', '.', 'eleven'], '.'),(['.', 'twelve', '.'], 'thirteen'),(['thirteen', '.', 'fourteen'], '.'),(['.', 'fifteen', '.'], 'sixteen')...]"
      ]
     },
     "execution_count": 11,
     "metadata": {},
     "output_type": "execute_result"
    }
   ],
   "source": [
    "L((tokens[i:i+3],tokens[i+3]) for i in range(0,len(tokens)-4,3))"
   ]
  },
  {
   "cell_type": "code",
   "execution_count": 12,
   "id": "a7767cf7",
   "metadata": {},
   "outputs": [
    {
     "data": {
      "text/plain": [
       "(#21031) [(tensor([0, 1, 2]), 1),(tensor([1, 3, 1]), 4),(tensor([4, 1, 5]), 1),(tensor([1, 6, 1]), 7),(tensor([7, 1, 8]), 1),(tensor([1, 9, 1]), 10),(tensor([10,  1, 11]), 1),(tensor([ 1, 12,  1]), 13),(tensor([13,  1, 14]), 1),(tensor([ 1, 15,  1]), 16)...]"
      ]
     },
     "execution_count": 12,
     "metadata": {},
     "output_type": "execute_result"
    }
   ],
   "source": [
    "seqs = L((tensor(nums[i:i+3]), nums[i+3]) for i in range(0,len(nums)-4,3))\n",
    "seqs"
   ]
  },
  {
   "cell_type": "code",
   "execution_count": 13,
   "id": "93175b44",
   "metadata": {},
   "outputs": [
    {
     "name": "stdout",
     "output_type": "stream",
     "text": [
      "Due to IPython and Windows limitation, python multiprocessing isn't available now.\n",
      "So `number_workers` is changed to 0 to avoid getting stuck\n",
      "Due to IPython and Windows limitation, python multiprocessing isn't available now.\n",
      "So `number_workers` is changed to 0 to avoid getting stuck\n"
     ]
    }
   ],
   "source": [
    "bs=64\n",
    "cut=int(len(seqs)*0.8)\n",
    "dls=DataLoaders.from_dsets(seqs[:cut],seqs[cut:],bs=64,shuffle=False)"
   ]
  },
  {
   "cell_type": "code",
   "execution_count": 14,
   "id": "f417f71e",
   "metadata": {},
   "outputs": [],
   "source": [
    "class LMModel1(Module):\n",
    "    def __init__(self,vocab_sz,n_hidden):\n",
    "        self.i_h=nn.Embedding(vocab_sz,n_hidden)\n",
    "        self.h_h=nn.Linear(n_hidden,n_hidden)\n",
    "        self.h_o=nn.Linear(n_hidden,vocab_sz)\n",
    "        \n",
    "    def forward(self,x):\n",
    "        h=F.relu(self.h_h(self.i_h(x[:,0])))\n",
    "        h=h+self.i_h(x[:,1])\n",
    "        h=F.relu(self.h_h(h))\n",
    "        h=h+self.i_h(x[:,2])\n",
    "        h=F.relu(self.h_h(h))\n",
    "        return self.h_o(h)"
   ]
  },
  {
   "cell_type": "code",
   "execution_count": 15,
   "id": "7b06b961",
   "metadata": {},
   "outputs": [
    {
     "data": {
      "text/html": [
       "<table border=\"1\" class=\"dataframe\">\n",
       "  <thead>\n",
       "    <tr style=\"text-align: left;\">\n",
       "      <th>epoch</th>\n",
       "      <th>train_loss</th>\n",
       "      <th>valid_loss</th>\n",
       "      <th>accuracy</th>\n",
       "      <th>time</th>\n",
       "    </tr>\n",
       "  </thead>\n",
       "  <tbody>\n",
       "    <tr>\n",
       "      <td>0</td>\n",
       "      <td>1.824297</td>\n",
       "      <td>1.970941</td>\n",
       "      <td>0.467554</td>\n",
       "      <td>00:01</td>\n",
       "    </tr>\n",
       "    <tr>\n",
       "      <td>1</td>\n",
       "      <td>1.386973</td>\n",
       "      <td>1.823242</td>\n",
       "      <td>0.467554</td>\n",
       "      <td>00:01</td>\n",
       "    </tr>\n",
       "    <tr>\n",
       "      <td>2</td>\n",
       "      <td>1.417556</td>\n",
       "      <td>1.654498</td>\n",
       "      <td>0.494414</td>\n",
       "      <td>00:01</td>\n",
       "    </tr>\n",
       "    <tr>\n",
       "      <td>3</td>\n",
       "      <td>1.376440</td>\n",
       "      <td>1.650849</td>\n",
       "      <td>0.494414</td>\n",
       "      <td>00:01</td>\n",
       "    </tr>\n",
       "  </tbody>\n",
       "</table>"
      ],
      "text/plain": [
       "<IPython.core.display.HTML object>"
      ]
     },
     "metadata": {},
     "output_type": "display_data"
    }
   ],
   "source": [
    "learn=Learner(dls,LMModel1(len(vocab),64),loss_func=F.cross_entropy,\n",
    "             metrics=accuracy)\n",
    "learn.fit_one_cycle(4,1e-3)"
   ]
  },
  {
   "cell_type": "code",
   "execution_count": 16,
   "id": "16750965",
   "metadata": {},
   "outputs": [
    {
     "data": {
      "text/plain": [
       "(tensor(29), 'thousand', 0.15165200855716662)"
      ]
     },
     "execution_count": 16,
     "metadata": {},
     "output_type": "execute_result"
    }
   ],
   "source": [
    "n,counts=0,torch.zeros(len(vocab))\n",
    "for x,y in dls.valid:\n",
    "    n+=y.shape[0]\n",
    "    for i in range_of(vocab): counts[i]+=(y==i).long().sum()\n",
    "idx=torch.argmax(counts)\n",
    "idx,vocab[idx.item()],counts[idx].item()/n"
   ]
  },
  {
   "cell_type": "code",
   "execution_count": 17,
   "id": "d5900348",
   "metadata": {},
   "outputs": [],
   "source": [
    "class LMModel2(Module):\n",
    "    def __init__(self,vocab_sz,n_hidden):\n",
    "        self.i_h=nn.Embedding(vocab_sz,n_hidden)\n",
    "        self.h_h=nn.Linear(n_hidden,n_hidden)\n",
    "        self.h_o=nn.Linear(n_hidden,vocab_sz)\n",
    "    \n",
    "    def forward(self,x):\n",
    "        h=0\n",
    "        for i in range(3):\n",
    "            h=h+self.i_h(x[:,i])\n",
    "            h=F.relu(self.h_h(h))\n",
    "        return self.h_o(h)"
   ]
  },
  {
   "cell_type": "code",
   "execution_count": 18,
   "id": "abf983cb",
   "metadata": {},
   "outputs": [
    {
     "data": {
      "text/html": [
       "<table border=\"1\" class=\"dataframe\">\n",
       "  <thead>\n",
       "    <tr style=\"text-align: left;\">\n",
       "      <th>epoch</th>\n",
       "      <th>train_loss</th>\n",
       "      <th>valid_loss</th>\n",
       "      <th>accuracy</th>\n",
       "      <th>time</th>\n",
       "    </tr>\n",
       "  </thead>\n",
       "  <tbody>\n",
       "    <tr>\n",
       "      <td>0</td>\n",
       "      <td>1.283492</td>\n",
       "      <td>1.900509</td>\n",
       "      <td>0.484906</td>\n",
       "      <td>00:01</td>\n",
       "    </tr>\n",
       "    <tr>\n",
       "      <td>1</td>\n",
       "      <td>1.278447</td>\n",
       "      <td>1.698772</td>\n",
       "      <td>0.498930</td>\n",
       "      <td>00:01</td>\n",
       "    </tr>\n",
       "    <tr>\n",
       "      <td>2</td>\n",
       "      <td>1.303361</td>\n",
       "      <td>1.571044</td>\n",
       "      <td>0.506061</td>\n",
       "      <td>00:01</td>\n",
       "    </tr>\n",
       "    <tr>\n",
       "      <td>3</td>\n",
       "      <td>1.288235</td>\n",
       "      <td>1.589980</td>\n",
       "      <td>0.465177</td>\n",
       "      <td>00:01</td>\n",
       "    </tr>\n",
       "  </tbody>\n",
       "</table>"
      ],
      "text/plain": [
       "<IPython.core.display.HTML object>"
      ]
     },
     "metadata": {},
     "output_type": "display_data"
    }
   ],
   "source": [
    "leanr=Learner(dls,LMModel2(len(vocab),64),loss_func=F.cross_entropy,\n",
    "             metrics=accuracy)\n",
    "learn.fit_one_cycle(4,1e-3)"
   ]
  },
  {
   "cell_type": "code",
   "execution_count": 19,
   "id": "f8514c09",
   "metadata": {},
   "outputs": [],
   "source": [
    "class LMModel3(Module):\n",
    "    def __init__(self,vocab_sz,n_hidden):\n",
    "        self.i_h=nn.Embedding(vocab_sz,n_hidden)\n",
    "        self.h_h=nn.Linear(n_hidden,n_hidden)\n",
    "        self.h_o=nn.Linear(n_hidden,n_hidden)\n",
    "        self.h=0\n",
    "    def forward(self,x):\n",
    "        for i in range(3):\n",
    "            self.h=self.h+self.i_h(x[:,i])\n",
    "            self.h=F.relu(self.h_h(self.h))\n",
    "        out=self.h_o(self.h)\n",
    "        self.h=self.h.detach()\n",
    "        return out\n",
    "    def reset(self):self.h=0"
   ]
  },
  {
   "cell_type": "code",
   "execution_count": 20,
   "id": "58fe7c33",
   "metadata": {},
   "outputs": [
    {
     "data": {
      "text/plain": [
       "(328, 64, 21031)"
      ]
     },
     "execution_count": 20,
     "metadata": {},
     "output_type": "execute_result"
    }
   ],
   "source": [
    "m=len(seqs)//bs\n",
    "m,bs,len(seqs)"
   ]
  },
  {
   "cell_type": "code",
   "execution_count": 21,
   "id": "7b16585d",
   "metadata": {},
   "outputs": [],
   "source": [
    "def group_chunck(ds,bs):\n",
    "    m=len(ds)//bs\n",
    "    new_ds=L()\n",
    "    for i in range(m): new_ds+=L(ds[i+m*j] for j in range(bs))\n",
    "    return new_ds"
   ]
  },
  {
   "cell_type": "code",
   "execution_count": 22,
   "id": "8d622f58",
   "metadata": {},
   "outputs": [
    {
     "name": "stdout",
     "output_type": "stream",
     "text": [
      "Due to IPython and Windows limitation, python multiprocessing isn't available now.\n",
      "So `number_workers` is changed to 0 to avoid getting stuck\n",
      "Due to IPython and Windows limitation, python multiprocessing isn't available now.\n",
      "So `number_workers` is changed to 0 to avoid getting stuck\n"
     ]
    }
   ],
   "source": [
    "cut=int(len(seqs)*0.8)\n",
    "dls=DataLoaders.from_dsets(\n",
    "group_chunck(seqs[:cut],bs),\n",
    "group_chunck(seqs[:cut],bs),\n",
    "bs=bs,drop_last=True,shuffle=False)"
   ]
  },
  {
   "cell_type": "code",
   "execution_count": 23,
   "id": "2632ba34",
   "metadata": {},
   "outputs": [
    {
     "data": {
      "text/html": [
       "<table border=\"1\" class=\"dataframe\">\n",
       "  <thead>\n",
       "    <tr style=\"text-align: left;\">\n",
       "      <th>epoch</th>\n",
       "      <th>train_loss</th>\n",
       "      <th>valid_loss</th>\n",
       "      <th>accuracy</th>\n",
       "      <th>time</th>\n",
       "    </tr>\n",
       "  </thead>\n",
       "  <tbody>\n",
       "    <tr>\n",
       "      <td>0</td>\n",
       "      <td>1.741329</td>\n",
       "      <td>1.508941</td>\n",
       "      <td>0.480499</td>\n",
       "      <td>00:01</td>\n",
       "    </tr>\n",
       "    <tr>\n",
       "      <td>1</td>\n",
       "      <td>1.315485</td>\n",
       "      <td>1.271710</td>\n",
       "      <td>0.524928</td>\n",
       "      <td>00:01</td>\n",
       "    </tr>\n",
       "    <tr>\n",
       "      <td>2</td>\n",
       "      <td>1.101959</td>\n",
       "      <td>1.142910</td>\n",
       "      <td>0.558385</td>\n",
       "      <td>00:01</td>\n",
       "    </tr>\n",
       "    <tr>\n",
       "      <td>3</td>\n",
       "      <td>1.016661</td>\n",
       "      <td>1.016789</td>\n",
       "      <td>0.584268</td>\n",
       "      <td>00:01</td>\n",
       "    </tr>\n",
       "    <tr>\n",
       "      <td>4</td>\n",
       "      <td>0.965103</td>\n",
       "      <td>0.999851</td>\n",
       "      <td>0.598282</td>\n",
       "      <td>00:01</td>\n",
       "    </tr>\n",
       "    <tr>\n",
       "      <td>5</td>\n",
       "      <td>0.922010</td>\n",
       "      <td>0.902642</td>\n",
       "      <td>0.628578</td>\n",
       "      <td>00:01</td>\n",
       "    </tr>\n",
       "    <tr>\n",
       "      <td>6</td>\n",
       "      <td>0.876549</td>\n",
       "      <td>0.942214</td>\n",
       "      <td>0.616114</td>\n",
       "      <td>00:01</td>\n",
       "    </tr>\n",
       "    <tr>\n",
       "      <td>7</td>\n",
       "      <td>0.840098</td>\n",
       "      <td>0.845656</td>\n",
       "      <td>0.654521</td>\n",
       "      <td>00:01</td>\n",
       "    </tr>\n",
       "    <tr>\n",
       "      <td>8</td>\n",
       "      <td>0.777447</td>\n",
       "      <td>0.790438</td>\n",
       "      <td>0.682431</td>\n",
       "      <td>00:01</td>\n",
       "    </tr>\n",
       "    <tr>\n",
       "      <td>9</td>\n",
       "      <td>0.760466</td>\n",
       "      <td>0.781752</td>\n",
       "      <td>0.686128</td>\n",
       "      <td>00:01</td>\n",
       "    </tr>\n",
       "  </tbody>\n",
       "</table>"
      ],
      "text/plain": [
       "<IPython.core.display.HTML object>"
      ]
     },
     "metadata": {},
     "output_type": "display_data"
    }
   ],
   "source": [
    "learn=Learner(dls,LMModel3(len(vocab),64),loss_func=F.cross_entropy,metrics=accuracy,\n",
    "             cbs=ModelResetter)\n",
    "learn.fit_one_cycle(10,3e-3)"
   ]
  },
  {
   "cell_type": "code",
   "execution_count": 24,
   "id": "a0443416",
   "metadata": {},
   "outputs": [
    {
     "name": "stdout",
     "output_type": "stream",
     "text": [
      "Due to IPython and Windows limitation, python multiprocessing isn't available now.\n",
      "So `number_workers` is changed to 0 to avoid getting stuck\n",
      "Due to IPython and Windows limitation, python multiprocessing isn't available now.\n",
      "So `number_workers` is changed to 0 to avoid getting stuck\n"
     ]
    }
   ],
   "source": [
    "sl=16\n",
    "seqs=L((tensor(nums[i:i+sl]),tensor(nums[i+1:i+sl+1]))\n",
    "      for i in range(0,len(nums)-sl-1,sl))\n",
    "cut=int(len(seqs)*0.8)\n",
    "dls=DataLoaders.from_dsets(group_chunck(seqs[:cut],bs),\n",
    "                          group_chunck(seqs[cut:],bs),\n",
    "                          bs=bs,drop_last=True,shuffle=False)"
   ]
  },
  {
   "cell_type": "code",
   "execution_count": 25,
   "id": "ad1781c9",
   "metadata": {},
   "outputs": [
    {
     "data": {
      "text/plain": [
       "[(#16) ['one','.','two','.','three','.','four','.','five','.'...],\n",
       " (#16) ['.','two','.','three','.','four','.','five','.','six'...]]"
      ]
     },
     "execution_count": 25,
     "metadata": {},
     "output_type": "execute_result"
    }
   ],
   "source": [
    "[L(vocab[o] for o in s) for s in seqs[0]]"
   ]
  },
  {
   "cell_type": "code",
   "execution_count": 26,
   "id": "356b7881",
   "metadata": {},
   "outputs": [],
   "source": [
    "class LMModel4(Module):\n",
    "    def __init__(self,vocab_sz,n_hidden):\n",
    "        self.i_h=nn.Embedding(vocab_sz,n_hidden)\n",
    "        self.h_h=nn.Linear(n_hidden,n_hidden)\n",
    "        self.h_o=nn.Linear(n_hidden,vocab_sz)\n",
    "        self.h=0\n",
    "        \n",
    "    def forward(self,x):\n",
    "        outs=[]\n",
    "        for i in range(sl):\n",
    "            self.h=self.h+self.i_h(x[:,i])\n",
    "            self.h=F.relu(self.h_h(self.h))\n",
    "            outs.append(self.h_o(self.h))\n",
    "        self.h=self.h.detach()\n",
    "        return torch.stack(outs,dim=1)\n",
    "    \n",
    "    def reset(self):self.h=0"
   ]
  },
  {
   "cell_type": "code",
   "execution_count": 27,
   "id": "ce2a4222",
   "metadata": {},
   "outputs": [],
   "source": [
    "def loss_func(inp,targ):\n",
    "    return F.cross_entropy(inp.view(-1,len(vocab)),targ.view(-1))"
   ]
  },
  {
   "cell_type": "code",
   "execution_count": 28,
   "id": "86f1dd2c",
   "metadata": {},
   "outputs": [
    {
     "data": {
      "text/html": [
       "<table border=\"1\" class=\"dataframe\">\n",
       "  <thead>\n",
       "    <tr style=\"text-align: left;\">\n",
       "      <th>epoch</th>\n",
       "      <th>train_loss</th>\n",
       "      <th>valid_loss</th>\n",
       "      <th>accuracy</th>\n",
       "      <th>time</th>\n",
       "    </tr>\n",
       "  </thead>\n",
       "  <tbody>\n",
       "    <tr>\n",
       "      <td>0</td>\n",
       "      <td>3.288131</td>\n",
       "      <td>3.151566</td>\n",
       "      <td>0.172363</td>\n",
       "      <td>00:00</td>\n",
       "    </tr>\n",
       "    <tr>\n",
       "      <td>1</td>\n",
       "      <td>2.390535</td>\n",
       "      <td>2.040053</td>\n",
       "      <td>0.470133</td>\n",
       "      <td>00:00</td>\n",
       "    </tr>\n",
       "    <tr>\n",
       "      <td>2</td>\n",
       "      <td>1.768010</td>\n",
       "      <td>1.875334</td>\n",
       "      <td>0.467122</td>\n",
       "      <td>00:00</td>\n",
       "    </tr>\n",
       "    <tr>\n",
       "      <td>3</td>\n",
       "      <td>1.452132</td>\n",
       "      <td>1.743919</td>\n",
       "      <td>0.521566</td>\n",
       "      <td>00:00</td>\n",
       "    </tr>\n",
       "    <tr>\n",
       "      <td>4</td>\n",
       "      <td>1.236826</td>\n",
       "      <td>1.671998</td>\n",
       "      <td>0.569417</td>\n",
       "      <td>00:00</td>\n",
       "    </tr>\n",
       "    <tr>\n",
       "      <td>5</td>\n",
       "      <td>1.068833</td>\n",
       "      <td>1.695659</td>\n",
       "      <td>0.580404</td>\n",
       "      <td>00:00</td>\n",
       "    </tr>\n",
       "    <tr>\n",
       "      <td>6</td>\n",
       "      <td>0.958775</td>\n",
       "      <td>1.692723</td>\n",
       "      <td>0.599609</td>\n",
       "      <td>00:00</td>\n",
       "    </tr>\n",
       "    <tr>\n",
       "      <td>7</td>\n",
       "      <td>0.864754</td>\n",
       "      <td>1.696359</td>\n",
       "      <td>0.610189</td>\n",
       "      <td>00:00</td>\n",
       "    </tr>\n",
       "    <tr>\n",
       "      <td>8</td>\n",
       "      <td>0.796238</td>\n",
       "      <td>1.643359</td>\n",
       "      <td>0.622477</td>\n",
       "      <td>00:00</td>\n",
       "    </tr>\n",
       "    <tr>\n",
       "      <td>9</td>\n",
       "      <td>0.739874</td>\n",
       "      <td>1.550509</td>\n",
       "      <td>0.638672</td>\n",
       "      <td>00:00</td>\n",
       "    </tr>\n",
       "    <tr>\n",
       "      <td>10</td>\n",
       "      <td>0.704481</td>\n",
       "      <td>1.566597</td>\n",
       "      <td>0.641927</td>\n",
       "      <td>00:00</td>\n",
       "    </tr>\n",
       "    <tr>\n",
       "      <td>11</td>\n",
       "      <td>0.666574</td>\n",
       "      <td>1.665041</td>\n",
       "      <td>0.647461</td>\n",
       "      <td>00:00</td>\n",
       "    </tr>\n",
       "    <tr>\n",
       "      <td>12</td>\n",
       "      <td>0.636334</td>\n",
       "      <td>1.621169</td>\n",
       "      <td>0.651855</td>\n",
       "      <td>00:00</td>\n",
       "    </tr>\n",
       "    <tr>\n",
       "      <td>13</td>\n",
       "      <td>0.616602</td>\n",
       "      <td>1.669909</td>\n",
       "      <td>0.644531</td>\n",
       "      <td>00:00</td>\n",
       "    </tr>\n",
       "    <tr>\n",
       "      <td>14</td>\n",
       "      <td>0.602952</td>\n",
       "      <td>1.681315</td>\n",
       "      <td>0.642741</td>\n",
       "      <td>00:00</td>\n",
       "    </tr>\n",
       "  </tbody>\n",
       "</table>"
      ],
      "text/plain": [
       "<IPython.core.display.HTML object>"
      ]
     },
     "metadata": {},
     "output_type": "display_data"
    }
   ],
   "source": [
    "learn=Learner(dls,LMModel4(len(vocab),64),loss_func=loss_func,\n",
    "             metrics=accuracy,cbs=ModelResetter)\n",
    "learn.fit_one_cycle(15,3e-3)"
   ]
  },
  {
   "cell_type": "code",
   "execution_count": 29,
   "id": "be8c6fe8",
   "metadata": {},
   "outputs": [],
   "source": [
    "class LMModel5(Module):\n",
    "    def __init__(self,vocab_sz,n_hidden,n_layers):\n",
    "        self.i_h=nn.Embedding(vocab_sz,n_hidden)\n",
    "        self.rnn=nn.RNN(n_hidden,n_hidden,n_layers,batch_first=True)\n",
    "        self.h_o=nn.Linear(n_hidden,vocab_sz)\n",
    "        self.h=torch.zeros(n_layers,bs,n_hidden)\n",
    "        \n",
    "    def forward(self,x):\n",
    "        res,h=self.rnn(self.i_h(x),self.h)\n",
    "        self.h=h.detach()\n",
    "        return self.h_o(res)\n",
    "    def reset(self): self.h.zero_()"
   ]
  },
  {
   "cell_type": "code",
   "execution_count": 30,
   "id": "3ec161eb",
   "metadata": {},
   "outputs": [
    {
     "data": {
      "text/html": [
       "<table border=\"1\" class=\"dataframe\">\n",
       "  <thead>\n",
       "    <tr style=\"text-align: left;\">\n",
       "      <th>epoch</th>\n",
       "      <th>train_loss</th>\n",
       "      <th>valid_loss</th>\n",
       "      <th>accuracy</th>\n",
       "      <th>time</th>\n",
       "    </tr>\n",
       "  </thead>\n",
       "  <tbody>\n",
       "    <tr>\n",
       "      <td>0</td>\n",
       "      <td>3.043598</td>\n",
       "      <td>2.525615</td>\n",
       "      <td>0.421549</td>\n",
       "      <td>00:00</td>\n",
       "    </tr>\n",
       "    <tr>\n",
       "      <td>1</td>\n",
       "      <td>2.156322</td>\n",
       "      <td>1.763950</td>\n",
       "      <td>0.470703</td>\n",
       "      <td>00:00</td>\n",
       "    </tr>\n",
       "    <tr>\n",
       "      <td>2</td>\n",
       "      <td>1.704042</td>\n",
       "      <td>1.917083</td>\n",
       "      <td>0.324788</td>\n",
       "      <td>00:00</td>\n",
       "    </tr>\n",
       "    <tr>\n",
       "      <td>3</td>\n",
       "      <td>1.484018</td>\n",
       "      <td>1.813772</td>\n",
       "      <td>0.462402</td>\n",
       "      <td>00:00</td>\n",
       "    </tr>\n",
       "    <tr>\n",
       "      <td>4</td>\n",
       "      <td>1.298178</td>\n",
       "      <td>1.805755</td>\n",
       "      <td>0.491699</td>\n",
       "      <td>00:00</td>\n",
       "    </tr>\n",
       "    <tr>\n",
       "      <td>5</td>\n",
       "      <td>1.124286</td>\n",
       "      <td>1.782998</td>\n",
       "      <td>0.518229</td>\n",
       "      <td>00:00</td>\n",
       "    </tr>\n",
       "    <tr>\n",
       "      <td>6</td>\n",
       "      <td>0.950437</td>\n",
       "      <td>1.718374</td>\n",
       "      <td>0.541178</td>\n",
       "      <td>00:00</td>\n",
       "    </tr>\n",
       "    <tr>\n",
       "      <td>7</td>\n",
       "      <td>0.797847</td>\n",
       "      <td>1.698005</td>\n",
       "      <td>0.548421</td>\n",
       "      <td>00:00</td>\n",
       "    </tr>\n",
       "    <tr>\n",
       "      <td>8</td>\n",
       "      <td>0.677364</td>\n",
       "      <td>1.601994</td>\n",
       "      <td>0.580648</td>\n",
       "      <td>00:00</td>\n",
       "    </tr>\n",
       "    <tr>\n",
       "      <td>9</td>\n",
       "      <td>0.586761</td>\n",
       "      <td>1.650579</td>\n",
       "      <td>0.588298</td>\n",
       "      <td>00:00</td>\n",
       "    </tr>\n",
       "    <tr>\n",
       "      <td>10</td>\n",
       "      <td>0.517987</td>\n",
       "      <td>1.689332</td>\n",
       "      <td>0.590495</td>\n",
       "      <td>00:00</td>\n",
       "    </tr>\n",
       "    <tr>\n",
       "      <td>11</td>\n",
       "      <td>0.470192</td>\n",
       "      <td>1.694335</td>\n",
       "      <td>0.590088</td>\n",
       "      <td>00:00</td>\n",
       "    </tr>\n",
       "    <tr>\n",
       "      <td>12</td>\n",
       "      <td>0.435717</td>\n",
       "      <td>1.677281</td>\n",
       "      <td>0.593180</td>\n",
       "      <td>00:00</td>\n",
       "    </tr>\n",
       "    <tr>\n",
       "      <td>13</td>\n",
       "      <td>0.415193</td>\n",
       "      <td>1.663920</td>\n",
       "      <td>0.591634</td>\n",
       "      <td>00:00</td>\n",
       "    </tr>\n",
       "    <tr>\n",
       "      <td>14</td>\n",
       "      <td>0.403868</td>\n",
       "      <td>1.670793</td>\n",
       "      <td>0.593099</td>\n",
       "      <td>00:00</td>\n",
       "    </tr>\n",
       "  </tbody>\n",
       "</table>"
      ],
      "text/plain": [
       "<IPython.core.display.HTML object>"
      ]
     },
     "metadata": {},
     "output_type": "display_data"
    }
   ],
   "source": [
    "learn=Learner(dls,LMModel5(len(vocab),64,2),\n",
    "             loss_func=CrossEntropyLossFlat(),\n",
    "             metrics=accuracy,cbs=ModelResetter)\n",
    "learn.fit_one_cycle(15,3e-3)"
   ]
  },
  {
   "cell_type": "code",
   "execution_count": 31,
   "id": "7eada509",
   "metadata": {},
   "outputs": [],
   "source": [
    "class LSTMCell(Module):\n",
    "    def __init__(self,ni,nh):\n",
    "        self.forget_gate=nn.Linear(ni+nh,nh)\n",
    "        self.input_gate=nn.Linear(ni+nh,nh)\n",
    "        self.cell_gate=nn.Linear(ni+nh,nh)\n",
    "        self.output_gate=nn.Linear(ni+nh,nh)\n",
    "    def forward(self,input,state):\n",
    "        h,c=state\n",
    "        h=torch.cat([h,input],dim=1)\n",
    "        forget=torch.sigmoid(self.forget_gate(h))\n",
    "        c=c*forget\n",
    "        cell=torch.tanh(self.cell_gate(h))\n",
    "        c=c+inp*cell\n",
    "        out=torch.sigmoid(self.output_gate(h))\n",
    "        h=out*torch.tanh(c)\n",
    "        return h,(h,c)"
   ]
  },
  {
   "cell_type": "code",
   "execution_count": 32,
   "id": "6fdd0f32",
   "metadata": {},
   "outputs": [],
   "source": [
    "class LSTMCell2(Module):\n",
    "    def __init__(self,ni,nh):\n",
    "        self.ih=nn.Linear(ni,4*nh)\n",
    "        self.hh=nn.Linear(nh,4*nh)\n",
    "    def forward(self,input,state):\n",
    "        h,c=state\n",
    "        gates=(self.ih(input)+self.hh(h).chunk(4,1))\n",
    "        ingate,forgetgate,outgate=map(torch.sigmoid,gates[:3])\n",
    "        cellgate=gates[3].tahn()\n",
    "        c=(forgetgate*c)+(ingate*cellgate)\n",
    "        h=outgate*c.tanh()\n",
    "        return h,(h,c)"
   ]
  },
  {
   "cell_type": "code",
   "execution_count": 33,
   "id": "73c261ea",
   "metadata": {},
   "outputs": [
    {
     "data": {
      "text/plain": [
       "tensor([0, 1, 2, 3, 4, 5, 6, 7, 8, 9])"
      ]
     },
     "execution_count": 33,
     "metadata": {},
     "output_type": "execute_result"
    }
   ],
   "source": [
    "t=torch.arange(0,10);t"
   ]
  },
  {
   "cell_type": "code",
   "execution_count": 34,
   "id": "15ad8473",
   "metadata": {},
   "outputs": [
    {
     "data": {
      "text/plain": [
       "(tensor([0, 1, 2, 3, 4]), tensor([5, 6, 7, 8, 9]))"
      ]
     },
     "execution_count": 34,
     "metadata": {},
     "output_type": "execute_result"
    }
   ],
   "source": [
    "t.chunk(2)"
   ]
  },
  {
   "cell_type": "code",
   "execution_count": 35,
   "id": "8fa033da",
   "metadata": {},
   "outputs": [],
   "source": [
    "class LMModel6(Module):\n",
    "    def __init__(self,vocab_sz,n_hidden,n_layers):\n",
    "        self.i_h=nn.Embedding(vocab_sz,n_hidden)\n",
    "        self.rnn=nn.LSTM(n_hidden,n_hidden,n_layers,batch_first=True)\n",
    "        self.h_o=nn.Linear(n_hidden,vocab_sz)\n",
    "        self.h=[torch.zeros(n_layers,bs,n_hidden) for _ in range(2)]\n",
    "    def forward(self,x):\n",
    "        res,h=self.rnn(self.i_h(x),self.h)\n",
    "        self.h=[h_.detach() for h_ in h]\n",
    "        return self.h_o(res)\n",
    "    def reset(self):\n",
    "        for h in self.h: h.zero_()"
   ]
  },
  {
   "cell_type": "code",
   "execution_count": 36,
   "id": "de6a5e61",
   "metadata": {},
   "outputs": [
    {
     "data": {
      "text/html": [
       "<table border=\"1\" class=\"dataframe\">\n",
       "  <thead>\n",
       "    <tr style=\"text-align: left;\">\n",
       "      <th>epoch</th>\n",
       "      <th>train_loss</th>\n",
       "      <th>valid_loss</th>\n",
       "      <th>accuracy</th>\n",
       "      <th>time</th>\n",
       "    </tr>\n",
       "  </thead>\n",
       "  <tbody>\n",
       "    <tr>\n",
       "      <td>0</td>\n",
       "      <td>2.993951</td>\n",
       "      <td>2.779134</td>\n",
       "      <td>0.394043</td>\n",
       "      <td>00:01</td>\n",
       "    </tr>\n",
       "    <tr>\n",
       "      <td>1</td>\n",
       "      <td>2.272995</td>\n",
       "      <td>2.373561</td>\n",
       "      <td>0.168294</td>\n",
       "      <td>00:01</td>\n",
       "    </tr>\n",
       "    <tr>\n",
       "      <td>2</td>\n",
       "      <td>1.692908</td>\n",
       "      <td>1.871444</td>\n",
       "      <td>0.413818</td>\n",
       "      <td>00:01</td>\n",
       "    </tr>\n",
       "    <tr>\n",
       "      <td>3</td>\n",
       "      <td>1.418332</td>\n",
       "      <td>1.827234</td>\n",
       "      <td>0.499593</td>\n",
       "      <td>00:01</td>\n",
       "    </tr>\n",
       "    <tr>\n",
       "      <td>4</td>\n",
       "      <td>1.210485</td>\n",
       "      <td>2.084497</td>\n",
       "      <td>0.520508</td>\n",
       "      <td>00:01</td>\n",
       "    </tr>\n",
       "    <tr>\n",
       "      <td>5</td>\n",
       "      <td>1.036390</td>\n",
       "      <td>1.800050</td>\n",
       "      <td>0.553385</td>\n",
       "      <td>00:01</td>\n",
       "    </tr>\n",
       "    <tr>\n",
       "      <td>6</td>\n",
       "      <td>0.817397</td>\n",
       "      <td>2.093016</td>\n",
       "      <td>0.557943</td>\n",
       "      <td>00:01</td>\n",
       "    </tr>\n",
       "    <tr>\n",
       "      <td>7</td>\n",
       "      <td>0.577011</td>\n",
       "      <td>1.690652</td>\n",
       "      <td>0.632243</td>\n",
       "      <td>00:01</td>\n",
       "    </tr>\n",
       "    <tr>\n",
       "      <td>8</td>\n",
       "      <td>0.399619</td>\n",
       "      <td>2.127517</td>\n",
       "      <td>0.641357</td>\n",
       "      <td>00:01</td>\n",
       "    </tr>\n",
       "    <tr>\n",
       "      <td>9</td>\n",
       "      <td>0.279044</td>\n",
       "      <td>1.708056</td>\n",
       "      <td>0.696533</td>\n",
       "      <td>00:01</td>\n",
       "    </tr>\n",
       "    <tr>\n",
       "      <td>10</td>\n",
       "      <td>0.208892</td>\n",
       "      <td>1.650544</td>\n",
       "      <td>0.709880</td>\n",
       "      <td>00:01</td>\n",
       "    </tr>\n",
       "    <tr>\n",
       "      <td>11</td>\n",
       "      <td>0.169038</td>\n",
       "      <td>1.742589</td>\n",
       "      <td>0.720947</td>\n",
       "      <td>00:01</td>\n",
       "    </tr>\n",
       "    <tr>\n",
       "      <td>12</td>\n",
       "      <td>0.141973</td>\n",
       "      <td>1.728332</td>\n",
       "      <td>0.732747</td>\n",
       "      <td>00:01</td>\n",
       "    </tr>\n",
       "    <tr>\n",
       "      <td>13</td>\n",
       "      <td>0.122726</td>\n",
       "      <td>1.724733</td>\n",
       "      <td>0.732341</td>\n",
       "      <td>00:01</td>\n",
       "    </tr>\n",
       "    <tr>\n",
       "      <td>14</td>\n",
       "      <td>0.111981</td>\n",
       "      <td>1.728693</td>\n",
       "      <td>0.734456</td>\n",
       "      <td>00:01</td>\n",
       "    </tr>\n",
       "  </tbody>\n",
       "</table>"
      ],
      "text/plain": [
       "<IPython.core.display.HTML object>"
      ]
     },
     "metadata": {},
     "output_type": "display_data"
    }
   ],
   "source": [
    "learn=Learner(dls,LMModel6(len(vocab),64,2),\n",
    "             loss_func=CrossEntropyLossFlat(),\n",
    "             metrics=accuracy,cbs=ModelResetter)\n",
    "learn.fit_one_cycle(15,1e-2)"
   ]
  },
  {
   "cell_type": "code",
   "execution_count": 37,
   "id": "870d1078",
   "metadata": {},
   "outputs": [],
   "source": [
    "class Dropout(Module):\n",
    "    def __init__(self,p):self.p=p\n",
    "    def forward(self,x):\n",
    "        if not self.training: return x\n",
    "        mask=x.new(*x.shape).bernoulli_(1-p)\n",
    "        return x*mask.div_(1-p)"
   ]
  },
  {
   "cell_type": "code",
   "execution_count": 45,
   "id": "c2ea0512",
   "metadata": {},
   "outputs": [],
   "source": [
    "class LMModel7(Module):\n",
    "    def __init__(self,vocab_sz,n_hidden,n_layers,p):\n",
    "        self.i_h=nn.Embedding(vocab_sz,n_hidden)\n",
    "        self.rnn=nn.LSTM(n_hidden,n_hidden,n_layers,batch_first=True)\n",
    "        self.drop=nn.Dropout(p)\n",
    "        self.h_o=nn.Linear(n_hidden,vocab_sz)\n",
    "        self.h_o.weight=self.i_h.weight\n",
    "        self.h=[torch.zeros(n_layers,bs,n_hidden) for _ in range(2)]\n",
    "    def forward(self,x):\n",
    "        raw,h=self.rnn(self.i_h(x),self.h)\n",
    "        out=self.drop(raw)\n",
    "        self.h=[h_.detach() for h_ in h]\n",
    "        return self.h_o(out),raw,out\n",
    "    def reset(self):\n",
    "        for h in self.h:h.zero_()"
   ]
  },
  {
   "cell_type": "code",
   "execution_count": 46,
   "id": "48134656",
   "metadata": {},
   "outputs": [],
   "source": [
    "learn=Learner(dls,LMModel7(len(vocab),64,2,0.5),\n",
    "             loss_func=CrossEntropyLossFlat(),metrics=accuracy,\n",
    "             cbs=[ModelResetter,RNNRegularizer(alpha=2,beta=2)])"
   ]
  },
  {
   "cell_type": "code",
   "execution_count": 47,
   "id": "6ad929fb",
   "metadata": {},
   "outputs": [],
   "source": [
    "learn=TextLearner(dls,LMModel7(len(vocab),64,2,0.4),\n",
    "                 loss_func=CrossEntropyLossFlat(),metrics=accuracy)"
   ]
  },
  {
   "cell_type": "code",
   "execution_count": 48,
   "id": "60e715be",
   "metadata": {},
   "outputs": [
    {
     "data": {
      "text/html": [
       "<table border=\"1\" class=\"dataframe\">\n",
       "  <thead>\n",
       "    <tr style=\"text-align: left;\">\n",
       "      <th>epoch</th>\n",
       "      <th>train_loss</th>\n",
       "      <th>valid_loss</th>\n",
       "      <th>accuracy</th>\n",
       "      <th>time</th>\n",
       "    </tr>\n",
       "  </thead>\n",
       "  <tbody>\n",
       "    <tr>\n",
       "      <td>0</td>\n",
       "      <td>2.433080</td>\n",
       "      <td>1.836833</td>\n",
       "      <td>0.498861</td>\n",
       "      <td>00:01</td>\n",
       "    </tr>\n",
       "    <tr>\n",
       "      <td>1</td>\n",
       "      <td>1.508632</td>\n",
       "      <td>1.282062</td>\n",
       "      <td>0.677083</td>\n",
       "      <td>00:01</td>\n",
       "    </tr>\n",
       "    <tr>\n",
       "      <td>2</td>\n",
       "      <td>0.794106</td>\n",
       "      <td>0.860656</td>\n",
       "      <td>0.798665</td>\n",
       "      <td>00:01</td>\n",
       "    </tr>\n",
       "    <tr>\n",
       "      <td>3</td>\n",
       "      <td>0.401260</td>\n",
       "      <td>0.718078</td>\n",
       "      <td>0.834066</td>\n",
       "      <td>00:01</td>\n",
       "    </tr>\n",
       "    <tr>\n",
       "      <td>4</td>\n",
       "      <td>0.213439</td>\n",
       "      <td>0.646949</td>\n",
       "      <td>0.846354</td>\n",
       "      <td>00:01</td>\n",
       "    </tr>\n",
       "    <tr>\n",
       "      <td>5</td>\n",
       "      <td>0.119471</td>\n",
       "      <td>0.680167</td>\n",
       "      <td>0.848063</td>\n",
       "      <td>00:01</td>\n",
       "    </tr>\n",
       "    <tr>\n",
       "      <td>6</td>\n",
       "      <td>0.073383</td>\n",
       "      <td>0.553856</td>\n",
       "      <td>0.857341</td>\n",
       "      <td>00:01</td>\n",
       "    </tr>\n",
       "    <tr>\n",
       "      <td>7</td>\n",
       "      <td>0.053623</td>\n",
       "      <td>0.635554</td>\n",
       "      <td>0.853516</td>\n",
       "      <td>00:01</td>\n",
       "    </tr>\n",
       "    <tr>\n",
       "      <td>8</td>\n",
       "      <td>0.039422</td>\n",
       "      <td>0.544662</td>\n",
       "      <td>0.860921</td>\n",
       "      <td>00:01</td>\n",
       "    </tr>\n",
       "    <tr>\n",
       "      <td>9</td>\n",
       "      <td>0.030120</td>\n",
       "      <td>0.615354</td>\n",
       "      <td>0.860107</td>\n",
       "      <td>00:01</td>\n",
       "    </tr>\n",
       "    <tr>\n",
       "      <td>10</td>\n",
       "      <td>0.023569</td>\n",
       "      <td>0.598085</td>\n",
       "      <td>0.858561</td>\n",
       "      <td>00:01</td>\n",
       "    </tr>\n",
       "    <tr>\n",
       "      <td>11</td>\n",
       "      <td>0.018709</td>\n",
       "      <td>0.563713</td>\n",
       "      <td>0.861409</td>\n",
       "      <td>00:01</td>\n",
       "    </tr>\n",
       "    <tr>\n",
       "      <td>12</td>\n",
       "      <td>0.015713</td>\n",
       "      <td>0.555111</td>\n",
       "      <td>0.863037</td>\n",
       "      <td>00:01</td>\n",
       "    </tr>\n",
       "    <tr>\n",
       "      <td>13</td>\n",
       "      <td>0.013902</td>\n",
       "      <td>0.541392</td>\n",
       "      <td>0.863525</td>\n",
       "      <td>00:01</td>\n",
       "    </tr>\n",
       "    <tr>\n",
       "      <td>14</td>\n",
       "      <td>0.012668</td>\n",
       "      <td>0.540263</td>\n",
       "      <td>0.862874</td>\n",
       "      <td>00:01</td>\n",
       "    </tr>\n",
       "  </tbody>\n",
       "</table>"
      ],
      "text/plain": [
       "<IPython.core.display.HTML object>"
      ]
     },
     "metadata": {},
     "output_type": "display_data"
    }
   ],
   "source": [
    "learn.fit_one_cycle(15,1e-2,wd=0.1)"
   ]
  },
  {
   "cell_type": "code",
   "execution_count": null,
   "id": "142538b2",
   "metadata": {},
   "outputs": [],
   "source": []
  }
 ],
 "metadata": {
  "kernelspec": {
   "display_name": "GPU",
   "language": "python",
   "name": "gpu"
  },
  "language_info": {
   "codemirror_mode": {
    "name": "ipython",
    "version": 3
   },
   "file_extension": ".py",
   "mimetype": "text/x-python",
   "name": "python",
   "nbconvert_exporter": "python",
   "pygments_lexer": "ipython3",
   "version": "3.9.7"
  }
 },
 "nbformat": 4,
 "nbformat_minor": 5
}
