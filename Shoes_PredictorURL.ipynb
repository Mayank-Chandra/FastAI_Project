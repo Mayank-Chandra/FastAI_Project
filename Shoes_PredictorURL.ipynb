{
 "cells": [
  {
   "cell_type": "markdown",
   "id": "b3de9c1f",
   "metadata": {},
   "source": [
    "# Football Shoes Predictor\n",
    "This predict the football shoes of the following brand:\n",
    "-Adidas <br>\n",
    "-Nike <br>\n",
    "-New Balance <br>\n",
    "-Under Armour <br>\n",
    "-Nivia <br>\n",
    "-Puma <br>\n",
    "Please Upload the Picture of Football shoes you want to classify and this machine will tell from which of the above brand does your shoes belong to.."
   ]
  },
  {
   "cell_type": "code",
   "execution_count": 1,
   "id": "a09e0544",
   "metadata": {},
   "outputs": [],
   "source": [
    "from fastai.vision.all import *\n",
    "from fastai.vision.widgets import *\n",
    "import os"
   ]
  },
  {
   "cell_type": "code",
   "execution_count": 2,
   "id": "60d7ed61",
   "metadata": {},
   "outputs": [],
   "source": [
    "path=Path()\n",
    "learn_inf=load_learner(path/'shoes_model.pkl',cpu=True)\n",
    "upload_btn=widgets.FileUpload()\n",
    "out_pt=widgets.Output()\n",
    "lbl_output=widgets.Label()\n",
    "btn_run=widgets.Button(description='Classify the Type')\n",
    "btn_run\n",
    "lbl_output.values='Please Import the picture of Shoes!!'\n",
    "def on_click(change):\n",
    "    img=PILImage.create(upload_btn.data[-1])\n",
    "    out_pt.clear_output()\n",
    "    with out_pt: display(img.to_thumb(128,128))\n",
    "    pred,pred_idx,probs=learn_inf.predict(img)\n",
    "    lbl_output.value=f'Prediction: {pred}, Probability: {probs[pred_idx]:.04f}'\n",
    "btn_run.on_click(on_click)"
   ]
  },
  {
   "cell_type": "code",
   "execution_count": 3,
   "id": "53d3df4e",
   "metadata": {},
   "outputs": [
    {
     "data": {
      "application/vnd.jupyter.widget-view+json": {
       "model_id": "45eb88d0946e4f568c9d220e9f1f2c21",
       "version_major": 2,
       "version_minor": 0
      },
      "text/plain": [
       "VBox(children=(Label(value='Select the Image Of Shoes you Want to Predict: '), FileUpload(value={}, descriptio…"
      ]
     },
     "metadata": {},
     "output_type": "display_data"
    }
   ],
   "source": [
    "VBox([widgets.Label('Select the Image Of Shoes you Want to Predict: '),\n",
    "     upload_btn,btn_run,out_pt,lbl_output])"
   ]
  },
  {
   "cell_type": "code",
   "execution_count": null,
   "id": "8855c6a0",
   "metadata": {},
   "outputs": [],
   "source": []
  }
 ],
 "metadata": {
  "kernelspec": {
   "display_name": "Python 3",
   "language": "python",
   "name": "python3"
  },
  "language_info": {
   "codemirror_mode": {
    "name": "ipython",
    "version": 3
   },
   "file_extension": ".py",
   "mimetype": "text/x-python",
   "name": "python",
   "nbconvert_exporter": "python",
   "pygments_lexer": "ipython3",
   "version": "3.8.8"
  }
 },
 "nbformat": 4,
 "nbformat_minor": 5
}
